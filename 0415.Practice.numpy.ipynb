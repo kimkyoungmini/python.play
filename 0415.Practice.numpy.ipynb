{
 "cells": [
  {
   "cell_type": "code",
   "execution_count": 1,
   "metadata": {
    "collapsed": true
   },
   "outputs": [],
   "source": [
    "import numpy as np\n",
    "import datetime"
   ]
  },
  {
   "cell_type": "markdown",
   "metadata": {},
   "source": [
    "## list vs. nparray"
   ]
  },
  {
   "cell_type": "code",
   "execution_count": 2,
   "metadata": {
    "collapsed": false
   },
   "outputs": [
    {
     "name": "stdout",
     "output_type": "stream",
     "text": [
      "List execution time : 0:00:00.718615\n",
      "ndarray execution time : 0:00:00.015600\n"
     ]
    }
   ],
   "source": [
    "#list\n",
    "li = list(range(1,10000000))\n",
    "startTime = datetime.datetime.now()\n",
    "\n",
    "for i in li :\n",
    "    i*10\n",
    "\n",
    "print('List execution time :',datetime.datetime.now()-startTime)\n",
    "\n",
    "#nparray\n",
    "ar = np.arange(1,10000000)\n",
    "startTime = datetime.datetime.now()\n",
    "\n",
    "ar*10\n",
    "\n",
    "print('ndarray execution time :',datetime.datetime.now()-startTime)"
   ]
  },
  {
   "cell_type": "markdown",
   "metadata": {},
   "source": [
    "## array"
   ]
  },
  {
   "cell_type": "code",
   "execution_count": 7,
   "metadata": {
    "collapsed": false
   },
   "outputs": [
    {
     "name": "stdout",
     "output_type": "stream",
     "text": [
      "[ 0  1  2  3  4  5  6  7  8  9 10 11 12 13 14 15 16 17 18 19 20 21 22 23 24]\n",
      "[[ 0  1  2  3  4]\n",
      " [ 5  6  7  8  9]\n",
      " [10 11 12 13 14]\n",
      " [15 16 17 18 19]\n",
      " [20 21 22 23 24]] \n",
      "\n",
      "[ 0  6 12 18 24] \n",
      "\n",
      "[ 1  7 13 19] \n",
      "\n"
     ]
    }
   ],
   "source": [
    "ar = np.arange(25) #0-24\n",
    "print(ar, '\\n')\n",
    "\n",
    "#5*5 행렬 변환\n",
    "ar = ar.reshape(5,5)\n",
    "print(ar, '\\n')\n",
    "\n",
    "#to diagonal matrix\n",
    "#[0,0]을 기준으로 대각선 데이터만 가져와서 생성\n",
    "# k : [0,k] 값의 대각선 방향으로 생성\n",
    "print(np.diag(ar), '\\n')\n",
    "print(np.diag(ar, k=1), '\\n')"
   ]
  },
  {
   "cell_type": "markdown",
   "metadata": {},
   "source": [
    "## 난수생성"
   ]
  },
  {
   "cell_type": "code",
   "execution_count": 41,
   "metadata": {
    "collapsed": false
   },
   "outputs": [
    {
     "name": "stdout",
     "output_type": "stream",
     "text": [
      "[-0.25209213  0.74572695  0.77690759] \n",
      "\n",
      "[[ 1.01842113  1.06135144 -0.71046645]\n",
      " [-0.2151878  -0.76076031 -0.71116323]\n",
      " [ 1.14150774 -0.50175555 -0.07915136]]\n",
      "[ 0.44122749 -0.33087015  2.43077119]\n",
      "[ 0.44122749 -0.33087015  2.43077119]\n",
      "[ 0.44122749 -0.33087015  2.43077119]\n",
      "[1 1 0 0 0 1 0 0 1 0]\n",
      "[5 4 6 5 5 4 4 4 4 3]\n"
     ]
    }
   ],
   "source": [
    "\n",
    "\n",
    "print(np.random.normal(size =3), \"\\n\") #size = #random_num\n",
    "print(np.random.normal(size =(3,3)))\n",
    "\n",
    "#seed : 난수표 번호 \n",
    "#seed를 맞추면 계속 동일한 난수 발생\n",
    "for i in range(3):\n",
    "    np.random.seed(seed =5)\n",
    "    print(np.random.normal(size =3)) \n",
    "    \n",
    "#0과 1을 추출 1의 확률을 0.3으로 10번 추출\n",
    "# N : trials\n",
    "# p : prob.\n",
    "print(np.random.binomial(n=1, p=0.5, size=10))\n",
    "print(np.random.binomial(n=10, p=0.5, size=10))"
   ]
  },
  {
   "cell_type": "markdown",
   "metadata": {},
   "source": [
    "## 행렬연산"
   ]
  },
  {
   "cell_type": "code",
   "execution_count": 44,
   "metadata": {
    "collapsed": false
   },
   "outputs": [
    {
     "name": "stdout",
     "output_type": "stream",
     "text": [
      "[1, 2, 3, 4, 5, 6]\n",
      "[5 7 9]\n"
     ]
    }
   ],
   "source": [
    "li1 = [1,2,3]\n",
    "li2 = [4,5,6]\n",
    "\n",
    "print(li1+li2) #리스트 결합\n",
    "\n",
    "ar1 = np.array(li1)\n",
    "ar2 = np.array(li2)\n",
    "\n",
    "print(ar1+ar2) #nparray는 same shape일 경우, 산술연산"
   ]
  },
  {
   "cell_type": "code",
   "execution_count": 57,
   "metadata": {
    "collapsed": false
   },
   "outputs": [
    {
     "name": "stdout",
     "output_type": "stream",
     "text": [
      "original \n",
      " [[ 1  2  3]\n",
      " [ 4  5  6]\n",
      " [ 7  8  9]\n",
      " [10 11 12]]\n",
      "\n",
      "첫 행  : \n",
      " [1 2 3]\n",
      "\n",
      "0-3행  : \n",
      " [[1 2 3]\n",
      " [4 5 6]\n",
      " [7 8 9]]\n",
      "\n",
      "1행1열 : \n",
      " 5\n",
      "\n",
      "0,3행  : \n",
      " [[ 1  2  3]\n",
      " [10 11 12]]\n"
     ]
    }
   ],
   "source": [
    "ar = np.arange(1,13).reshape(4,3)\n",
    "print('original \\n' ,ar)\n",
    "print('\\n첫 행  : \\n' ,ar[0])\n",
    "print('\\n0-3행  : \\n' ,ar[0:3])\n",
    "print('\\n1행1열 : \\n' ,ar[1,1])\n",
    "print('\\n0,3행  : \\n', ar[[0,3]]) #0, 3행출력"
   ]
  },
  {
   "cell_type": "code",
   "execution_count": 67,
   "metadata": {
    "collapsed": false
   },
   "outputs": [
    {
     "name": "stdout",
     "output_type": "stream",
     "text": [
      "[[ 2  3]\n",
      " [ 2 10]]\n",
      "[ 4 30]\n",
      "[ 6 20]\n",
      "[[ 10  36]\n",
      " [ 24 106]]\n"
     ]
    }
   ],
   "source": [
    "ar = np.arange(100,500,100).reshape(2,2)\n",
    "\n",
    "ar= np.array([[2,3],[2,10]])\n",
    "\n",
    "print(ar)\n",
    "print(np.prod(ar, axis=0)) #[4, 30]\n",
    "print(np.prod(ar, axis=1)) #[6, 20]\n",
    "\n",
    "print(np.matmul(ar,ar))"
   ]
  },
  {
   "cell_type": "code",
   "execution_count": 73,
   "metadata": {
    "collapsed": false
   },
   "outputs": [
    {
     "name": "stdout",
     "output_type": "stream",
     "text": [
      "[[1 2]\n",
      " [3 4]\n",
      " [5 6]\n",
      " [7 8]]\n",
      "[[1 2 5 6]\n",
      " [3 4 7 8]]\n",
      "[array([[1],\n",
      "       [3]]), array([], shape=(2, 0), dtype=int32), array([[2],\n",
      "       [4]])]\n"
     ]
    }
   ],
   "source": [
    "k = [[1,2],[3,4]]\n",
    "l = [[5,6],[7,8]]\n",
    "\n",
    "print(np.concatenate((k,l), axis=0))\n",
    "\n",
    "print(np.concatenate((k,l), axis=1))\n",
    "\n",
    "print(np.split(k,(1,1), axis=1))"
   ]
  },
  {
   "cell_type": "code",
   "execution_count": 84,
   "metadata": {
    "collapsed": false
   },
   "outputs": [
    {
     "name": "stdout",
     "output_type": "stream",
     "text": [
      "[[ 0  1  2  3]\n",
      " [ 4  5  6  7]\n",
      " [ 8  9 10 11]\n",
      " [12 13 14 15]] \n",
      "\n",
      "0 [[0 1 2 3]\n",
      " [4 5 6 7]]\n",
      "1 [[ 8  9 10 11]]\n",
      "2 [[12 13 14 15]]\n"
     ]
    }
   ],
   "source": [
    "m = np.arange(16).reshape(4,4)\n",
    "print(m, '\\n')\n",
    "m_split = np.split(m, [2,3], axis =0)\n",
    "#[2,3] 자르는 자리 --> 즉, 1,2번째 열 / 3번째 열 / 나머지 열 이렇게 split 됨!\n",
    "\n",
    "for i in range(len(m_split)):\n",
    "    print( m_split[i])\n",
    "    \n",
    "    "
   ]
  },
  {
   "cell_type": "markdown",
   "metadata": {},
   "source": []
  },
  {
   "cell_type": "code",
   "execution_count": null,
   "metadata": {
    "collapsed": true
   },
   "outputs": [],
   "source": [
    "\n",
    "\n",
    "\n"
   ]
  }
 ],
 "metadata": {
  "kernelspec": {
   "display_name": "Python 3",
   "language": "python",
   "name": "python3"
  },
  "language_info": {
   "codemirror_mode": {
    "name": "ipython",
    "version": 3
   },
   "file_extension": ".py",
   "mimetype": "text/x-python",
   "name": "python",
   "nbconvert_exporter": "python",
   "pygments_lexer": "ipython3",
   "version": "3.6.0"
  }
 },
 "nbformat": 4,
 "nbformat_minor": 2
}
