{
  "nbformat": 4,
  "nbformat_minor": 0,
  "metadata": {
    "kernelspec": {
      "display_name": "Python 3",
      "language": "python",
      "name": "python3"
    },
    "language_info": {
      "codemirror_mode": {
        "name": "ipython",
        "version": 3
      },
      "file_extension": ".py",
      "mimetype": "text/x-python",
      "name": "python",
      "nbconvert_exporter": "python",
      "pygments_lexer": "ipython3",
      "version": "3.6.5"
    },
    "colab": {
      "name": "01_Math.kkm",
      "provenance": [],
      "include_colab_link": true
    }
  },
  "cells": [
    {
      "cell_type": "markdown",
      "metadata": {
        "id": "view-in-github",
        "colab_type": "text"
      },
      "source": [
        "<a href=\"https://colab.research.google.com/github/kimkyoungmini/python.play/blob/master/01_Math_kkm.ipynb\" target=\"_parent\"><img src=\"https://colab.research.google.com/assets/colab-badge.svg\" alt=\"Open In Colab\"/></a>"
      ]
    },
    {
      "cell_type": "markdown",
      "metadata": {
        "id": "6gjkvJ3mrdVv",
        "colab_type": "text"
      },
      "source": [
        "# 선형대수"
      ]
    },
    {
      "cell_type": "markdown",
      "metadata": {
        "id": "pm_bSyEkrdVw",
        "colab_type": "text"
      },
      "source": [
        "## 벡터"
      ]
    },
    {
      "cell_type": "code",
      "metadata": {
        "id": "qpKKMs7qrdVx",
        "colab_type": "code",
        "colab": {}
      },
      "source": [
        "import numpy as np"
      ],
      "execution_count": null,
      "outputs": []
    },
    {
      "cell_type": "code",
      "metadata": {
        "id": "Rl5usOGcrdV0",
        "colab_type": "code",
        "colab": {},
        "outputId": "4dfe2fa6-b3f1-49bd-e78c-2bb0215a49b9"
      },
      "source": [
        "vector = np.array([1,2,3,4,5]) # 1차원 벡터\n",
        "vector"
      ],
      "execution_count": null,
      "outputs": [
        {
          "output_type": "execute_result",
          "data": {
            "text/plain": [
              "array([1, 2, 3, 4, 5])"
            ]
          },
          "metadata": {
            "tags": []
          },
          "execution_count": 2
        }
      ]
    },
    {
      "cell_type": "markdown",
      "metadata": {
        "id": "nVxs0qt9rdV4",
        "colab_type": "text"
      },
      "source": [
        "### 상등"
      ]
    },
    {
      "cell_type": "code",
      "metadata": {
        "id": "FRqV2sjIrdV5",
        "colab_type": "code",
        "colab": {},
        "outputId": "6ca6f46c-fc35-440f-b139-f8589438e3a7"
      },
      "source": [
        "v1 = np.array([1, 5, 3])\n",
        "v2 = np.array([1, 3, 5])\n",
        "v1 == v2, np.equal(v1, v2) # 순서쌍이 같아야 동일 벡터"
      ],
      "execution_count": null,
      "outputs": [
        {
          "output_type": "execute_result",
          "data": {
            "text/plain": [
              "(array([ True, False, False]), array([ True, False, False]))"
            ]
          },
          "metadata": {
            "tags": []
          },
          "execution_count": 3
        }
      ]
    },
    {
      "cell_type": "code",
      "metadata": {
        "id": "rYj2cnQlrdV8",
        "colab_type": "code",
        "colab": {},
        "outputId": "93b4f41d-b6ff-44bd-dec7-d555d9fae0bc"
      },
      "source": [
        "np.all(v1 == v2)"
      ],
      "execution_count": null,
      "outputs": [
        {
          "output_type": "execute_result",
          "data": {
            "text/plain": [
              "False"
            ]
          },
          "metadata": {
            "tags": []
          },
          "execution_count": 4
        }
      ]
    },
    {
      "cell_type": "code",
      "metadata": {
        "id": "ulYM3v1nrdV-",
        "colab_type": "code",
        "colab": {},
        "outputId": "155d83e6-6d01-432c-fbe5-4c11c520afa7"
      },
      "source": [
        "v1 = np.array([1, 3, 5])\n",
        "v2 = np.array([1, 3, 5])\n",
        "v1 == v2, np.equal(v1, v2) # 순서쌍이 같아야 동일 벡터 (즉 상등)"
      ],
      "execution_count": null,
      "outputs": [
        {
          "output_type": "execute_result",
          "data": {
            "text/plain": [
              "(array([ True,  True,  True]), array([ True,  True,  True]))"
            ]
          },
          "metadata": {
            "tags": []
          },
          "execution_count": 5
        }
      ]
    },
    {
      "cell_type": "code",
      "metadata": {
        "id": "PHJtUEvXrdWC",
        "colab_type": "code",
        "colab": {},
        "outputId": "aca87359-b728-483d-8e64-1f0e08a90dab"
      },
      "source": [
        "np.all(v1 == v2)"
      ],
      "execution_count": null,
      "outputs": [
        {
          "output_type": "execute_result",
          "data": {
            "text/plain": [
              "True"
            ]
          },
          "metadata": {
            "tags": []
          },
          "execution_count": 6
        }
      ]
    },
    {
      "cell_type": "markdown",
      "metadata": {
        "id": "-5BIHgB9rdWF",
        "colab_type": "text"
      },
      "source": [
        "### 벡터 연산"
      ]
    },
    {
      "cell_type": "code",
      "metadata": {
        "id": "J7cv5oBGrdWG",
        "colab_type": "code",
        "colab": {},
        "outputId": "c9d130d9-2f3b-4c9b-d450-a3b1f33c5f95"
      },
      "source": [
        "v1 = np.array([5,1,3])\n",
        "v2 = np.array([3,3,4])\n",
        "v1+v2 # 벡터의 연산 (덧셈)"
      ],
      "execution_count": null,
      "outputs": [
        {
          "output_type": "execute_result",
          "data": {
            "text/plain": [
              "array([8, 4, 7])"
            ]
          },
          "metadata": {
            "tags": []
          },
          "execution_count": 7
        }
      ]
    },
    {
      "cell_type": "code",
      "metadata": {
        "id": "HjiabXdArdWJ",
        "colab_type": "code",
        "colab": {},
        "outputId": "7799fbf1-482b-40fc-b18e-e35dedba728e"
      },
      "source": [
        "v1 = np.array([5,1,3])\n",
        "v2 = np.array([3,3,4])\n",
        "v1-v2 # 벡터의 연산 (뺄셈)"
      ],
      "execution_count": null,
      "outputs": [
        {
          "output_type": "execute_result",
          "data": {
            "text/plain": [
              "array([ 2, -2, -1])"
            ]
          },
          "metadata": {
            "tags": []
          },
          "execution_count": 8
        }
      ]
    },
    {
      "cell_type": "code",
      "metadata": {
        "id": "_TWdjIL8rdWM",
        "colab_type": "code",
        "colab": {},
        "outputId": "b076b74e-855c-44c7-de21-a2f7c330f628"
      },
      "source": [
        "v1 = np.array([5, 1, 3])\n",
        "2 * v1 # 실수배"
      ],
      "execution_count": null,
      "outputs": [
        {
          "output_type": "execute_result",
          "data": {
            "text/plain": [
              "array([10,  2,  6])"
            ]
          },
          "metadata": {
            "tags": []
          },
          "execution_count": 9
        }
      ]
    },
    {
      "cell_type": "code",
      "metadata": {
        "id": "qPKNKT4trdWO",
        "colab_type": "code",
        "colab": {},
        "outputId": "4471427a-de01-4f66-a4ec-f2f4f975423b"
      },
      "source": [
        "v1 = np.array([3,1,5])\n",
        "v2 = np.array([30000,15000,10000])\n",
        "print(v1*v2, (v1*v2).sum()) # 벡터의 내적\n",
        "print(v1.dot(v2))"
      ],
      "execution_count": null,
      "outputs": [
        {
          "output_type": "stream",
          "text": [
            "[90000 15000 50000] 155000\n",
            "155000\n"
          ],
          "name": "stdout"
        }
      ]
    },
    {
      "cell_type": "markdown",
      "metadata": {
        "id": "i6H33PxrrdWR",
        "colab_type": "text"
      },
      "source": [
        "#### 벡터 내적 구하는 방법 2가지"
      ]
    },
    {
      "cell_type": "code",
      "metadata": {
        "id": "0Q9t_FRBrdWS",
        "colab_type": "code",
        "colab": {}
      },
      "source": [
        "import numpy as np\n",
        "a = np.array([2,2])\n",
        "b = np.array([4,4])"
      ],
      "execution_count": null,
      "outputs": []
    },
    {
      "cell_type": "markdown",
      "metadata": {
        "id": "_T1iUr2UrdWV",
        "colab_type": "text"
      },
      "source": [
        "* 방법1\n",
        "    * $\\overrightarrow{x}\\cdot\\overrightarrow{y}= x_1y_1 + x_2y_2 + \\dots + x_ny_n$"
      ]
    },
    {
      "cell_type": "code",
      "metadata": {
        "id": "5DW1Z3dKrdWV",
        "colab_type": "code",
        "colab": {},
        "outputId": "89796c6b-1059-4299-f948-2a8d50244f00"
      },
      "source": [
        "print((a* b).sum(), a.dot(b), np.dot(a, b))"
      ],
      "execution_count": null,
      "outputs": [
        {
          "output_type": "stream",
          "text": [
            "16 16 16\n"
          ],
          "name": "stdout"
        }
      ]
    },
    {
      "cell_type": "markdown",
      "metadata": {
        "id": "IcEq7eXxrdWX",
        "colab_type": "text"
      },
      "source": [
        "* 방법 2\n",
        "    * $\\overrightarrow{x}\\cdot\\overrightarrow{y}= \\|x\\| \\|y\\| \\cos\\theta$"
      ]
    },
    {
      "cell_type": "code",
      "metadata": {
        "id": "zXQY5UkXrdWY",
        "colab_type": "code",
        "colab": {},
        "outputId": "1b187d85-969b-47f5-dbb2-eefb2686df32"
      },
      "source": [
        "a_l = np.sqrt(np.sum(a**2))\n",
        "b_l = np.sqrt(np.sum(b**2))\n",
        "a_l, b_l"
      ],
      "execution_count": null,
      "outputs": [
        {
          "output_type": "execute_result",
          "data": {
            "text/plain": [
              "(2.8284271247461903, 5.656854249492381)"
            ]
          },
          "metadata": {
            "tags": []
          },
          "execution_count": 13
        }
      ]
    },
    {
      "cell_type": "code",
      "metadata": {
        "id": "lnfeaFVnrdWa",
        "colab_type": "code",
        "colab": {},
        "outputId": "98235f7a-7dbe-413b-995c-d5077c9c59a4"
      },
      "source": [
        "a_l * b_l * np.cos(0)"
      ],
      "execution_count": null,
      "outputs": [
        {
          "output_type": "execute_result",
          "data": {
            "text/plain": [
              "16.000000000000004"
            ]
          },
          "metadata": {
            "tags": []
          },
          "execution_count": 14
        }
      ]
    },
    {
      "cell_type": "code",
      "metadata": {
        "id": "CeeyV8lcrdWc",
        "colab_type": "code",
        "colab": {},
        "outputId": "0b3693f2-a436-4bde-aeee-c53ed6cad3e8"
      },
      "source": [
        "a @ b"
      ],
      "execution_count": null,
      "outputs": [
        {
          "output_type": "execute_result",
          "data": {
            "text/plain": [
              "16"
            ]
          },
          "metadata": {
            "tags": []
          },
          "execution_count": 15
        }
      ]
    },
    {
      "cell_type": "markdown",
      "metadata": {
        "id": "uDdoi2herdWe",
        "colab_type": "text"
      },
      "source": [
        "##### 행렬"
      ]
    },
    {
      "cell_type": "code",
      "metadata": {
        "id": "c4N6bec0rdWf",
        "colab_type": "code",
        "colab": {},
        "outputId": "c3c78f53-f13d-4801-8f8e-8b340e3028ce"
      },
      "source": [
        "array = np.array([[80,50], [60,70]])\n",
        "array"
      ],
      "execution_count": null,
      "outputs": [
        {
          "output_type": "execute_result",
          "data": {
            "text/plain": [
              "array([[80, 50],\n",
              "       [60, 70]])"
            ]
          },
          "metadata": {
            "tags": []
          },
          "execution_count": 16
        }
      ]
    },
    {
      "cell_type": "code",
      "metadata": {
        "id": "A3_OgfMFrdWi",
        "colab_type": "code",
        "colab": {},
        "outputId": "c1687028-aa99-490b-a096-69ad2337ef19"
      },
      "source": [
        "array1 = np.array([[80,50], [60,70]])\n",
        "array2 = np.array([[20,50], [40,30]])\n",
        "array1 + array2 # 행렬 합"
      ],
      "execution_count": null,
      "outputs": [
        {
          "output_type": "execute_result",
          "data": {
            "text/plain": [
              "array([[100, 100],\n",
              "       [100, 100]])"
            ]
          },
          "metadata": {
            "tags": []
          },
          "execution_count": 17
        }
      ]
    },
    {
      "cell_type": "code",
      "metadata": {
        "id": "8F2PoIlvrdWk",
        "colab_type": "code",
        "colab": {},
        "outputId": "bfbde997-f6da-471a-991d-c34b2ef441b3"
      },
      "source": [
        "array1 = np.array([[80,50], [60,70]])\n",
        "array2 = np.array([[20,50], [40,30]])\n",
        "array1 - array2 # 행렬 차"
      ],
      "execution_count": null,
      "outputs": [
        {
          "output_type": "execute_result",
          "data": {
            "text/plain": [
              "array([[60,  0],\n",
              "       [20, 40]])"
            ]
          },
          "metadata": {
            "tags": []
          },
          "execution_count": 18
        }
      ]
    },
    {
      "cell_type": "code",
      "metadata": {
        "id": "8FpHQwwWrdWm",
        "colab_type": "code",
        "colab": {},
        "outputId": "4556776e-1dbb-4bfb-d090-2dcf17051898"
      },
      "source": [
        "2 * array # 행렬의 실수 배"
      ],
      "execution_count": null,
      "outputs": [
        {
          "output_type": "execute_result",
          "data": {
            "text/plain": [
              "array([[160, 100],\n",
              "       [120, 140]])"
            ]
          },
          "metadata": {
            "tags": []
          },
          "execution_count": 19
        }
      ]
    },
    {
      "cell_type": "code",
      "metadata": {
        "id": "PrlvktBxrdWo",
        "colab_type": "code",
        "colab": {},
        "outputId": "4ce46ab8-bf24-4d27-bbfe-52e946e7d0e1"
      },
      "source": [
        "array1 = np.array([[10,20],\n",
        "                   [30,40],\n",
        "                   [50, 60]])\n",
        "array2 = np.array([[1, -1, 1],\n",
        "                   [1, -1, 1]])\n",
        "array1.shape, array2.shape"
      ],
      "execution_count": null,
      "outputs": [
        {
          "output_type": "execute_result",
          "data": {
            "text/plain": [
              "((3, 2), (2, 3))"
            ]
          },
          "metadata": {
            "tags": []
          },
          "execution_count": 20
        }
      ]
    },
    {
      "cell_type": "code",
      "metadata": {
        "id": "2G4j5mzWrdWq",
        "colab_type": "code",
        "colab": {},
        "outputId": "6ca82729-cb50-4bfc-be56-f93caed3ae39"
      },
      "source": [
        "# https://docs.python.org/3/whatsnew/3.5.html#whatsnew-pep-465\n",
        "array1 @ array2 # 행렬 내적 계산"
      ],
      "execution_count": null,
      "outputs": [
        {
          "output_type": "execute_result",
          "data": {
            "text/plain": [
              "array([[  30,  -30,   30],\n",
              "       [  70,  -70,   70],\n",
              "       [ 110, -110,  110]])"
            ]
          },
          "metadata": {
            "tags": []
          },
          "execution_count": 21
        }
      ]
    },
    {
      "cell_type": "code",
      "metadata": {
        "id": "xJfU1o35rdWs",
        "colab_type": "code",
        "colab": {},
        "outputId": "8fb189ae-62dd-437c-e6cc-8a2fdf1bae95"
      },
      "source": [
        "np.dot(array1, array2)"
      ],
      "execution_count": null,
      "outputs": [
        {
          "output_type": "execute_result",
          "data": {
            "text/plain": [
              "array([[  30,  -30,   30],\n",
              "       [  70,  -70,   70],\n",
              "       [ 110, -110,  110]])"
            ]
          },
          "metadata": {
            "tags": []
          },
          "execution_count": 22
        }
      ]
    },
    {
      "cell_type": "markdown",
      "metadata": {
        "id": "FKRBEk6RrdWv",
        "colab_type": "text"
      },
      "source": [
        "# Norm\n",
        "* `np.linalg.norm(x, ord)`\n",
        "    * `ord` : None = 2, `inf`"
      ]
    },
    {
      "cell_type": "code",
      "metadata": {
        "id": "7U5S0LyDrdWv",
        "colab_type": "code",
        "colab": {}
      },
      "source": [
        "x = np.array([1,2,3,4,5])"
      ],
      "execution_count": null,
      "outputs": []
    },
    {
      "cell_type": "code",
      "metadata": {
        "id": "AJVzoriQrdWx",
        "colab_type": "code",
        "colab": {},
        "outputId": "8b057151-85a4-40af-9183-919903d272ff"
      },
      "source": [
        "np.sum(np.abs(x)) , np.linalg.norm(x, 1)"
      ],
      "execution_count": null,
      "outputs": [
        {
          "output_type": "execute_result",
          "data": {
            "text/plain": [
              "(15, 15.0)"
            ]
          },
          "metadata": {
            "tags": []
          },
          "execution_count": 24
        }
      ]
    },
    {
      "cell_type": "code",
      "metadata": {
        "id": "IWCrHI0ordW1",
        "colab_type": "code",
        "colab": {},
        "outputId": "2cfa8273-19d0-4caa-e5a3-d00313cd0505"
      },
      "source": [
        "np.sqrt(np.sum(x**2)), np.linalg.norm(x, 2), np.linalg.norm(x, 2)"
      ],
      "execution_count": null,
      "outputs": [
        {
          "output_type": "execute_result",
          "data": {
            "text/plain": [
              "(7.416198487095663, 7.416198487095663, 7.416198487095663)"
            ]
          },
          "metadata": {
            "tags": []
          },
          "execution_count": 25
        }
      ]
    },
    {
      "cell_type": "code",
      "metadata": {
        "id": "WrYY-d-UrdW3",
        "colab_type": "code",
        "colab": {}
      },
      "source": [
        "# np.linalg와 scipy.linalg를 이용하여 선형대수관련 함수를 사용할 수 있음 scipy.linalg가 더 많은 기능을 제공하기 때문에 scipy.linalg 사용\n",
        "import scipy.linalg as linalg\n",
        "\n",
        "A = np.array([[1,2,-1],\n",
        "              [2,7,4],\n",
        "              [0,4,-1]])\n",
        "b = np.array([1,0,1.2])"
      ],
      "execution_count": null,
      "outputs": []
    },
    {
      "cell_type": "code",
      "metadata": {
        "id": "fdCnOnOmrdW5",
        "colab_type": "code",
        "colab": {},
        "outputId": "1b4ad34e-0297-425a-edce-d07c57b18a89"
      },
      "source": [
        "# 행렬식\n",
        "det = linalg.det(A)\n",
        "det"
      ],
      "execution_count": null,
      "outputs": [
        {
          "output_type": "execute_result",
          "data": {
            "text/plain": [
              "-27.0"
            ]
          },
          "metadata": {
            "tags": []
          },
          "execution_count": 27
        }
      ]
    },
    {
      "cell_type": "code",
      "metadata": {
        "id": "k_sNjIpFrdW6",
        "colab_type": "code",
        "colab": {},
        "outputId": "58aecb58-1c68-4f85-d413-c7e67b9f3d68"
      },
      "source": [
        "# 선형 행렬 방정식 또는 선형 스칼라 방정식의 해\n",
        "x = linalg.solve(A,b)\n",
        "x"
      ],
      "execution_count": null,
      "outputs": [
        {
          "output_type": "execute_result",
          "data": {
            "text/plain": [
              "array([ 0.18518519,  0.19259259, -0.42962963])"
            ]
          },
          "metadata": {
            "tags": []
          },
          "execution_count": 28
        }
      ]
    },
    {
      "cell_type": "code",
      "metadata": {
        "id": "mUTyFPfprdW9",
        "colab_type": "code",
        "colab": {},
        "outputId": "139ab608-2ba4-46fb-a0dc-da90ebd39034"
      },
      "source": [
        "r = A.dot(x) - b   # 0 벡터 확인\n",
        "r"
      ],
      "execution_count": null,
      "outputs": [
        {
          "output_type": "execute_result",
          "data": {
            "text/plain": [
              "array([0., 0., 0.])"
            ]
          },
          "metadata": {
            "tags": []
          },
          "execution_count": 29
        }
      ]
    },
    {
      "cell_type": "code",
      "metadata": {
        "id": "buZNbiKNrdXA",
        "colab_type": "code",
        "colab": {},
        "outputId": "9f1b8d88-0a34-4c84-b70d-e03838813634"
      },
      "source": [
        "# 역행렬\n",
        "Ainv = linalg.inv(A)\n",
        "Ainv"
      ],
      "execution_count": null,
      "outputs": [
        {
          "output_type": "execute_result",
          "data": {
            "text/plain": [
              "array([[ 0.85185185,  0.07407407, -0.55555556],\n",
              "       [-0.07407407,  0.03703704,  0.22222222],\n",
              "       [-0.2962963 ,  0.14814815, -0.11111111]])"
            ]
          },
          "metadata": {
            "tags": []
          },
          "execution_count": 30
        }
      ]
    },
    {
      "cell_type": "code",
      "metadata": {
        "id": "tqyG3AK8rdXC",
        "colab_type": "code",
        "colab": {},
        "outputId": "b215317e-c28a-40ae-82fb-06e0e70af524"
      },
      "source": [
        "# X = A의 역행렬과 b를 내적한 값\n",
        "Ainv.dot(b)"
      ],
      "execution_count": null,
      "outputs": [
        {
          "output_type": "execute_result",
          "data": {
            "text/plain": [
              "array([ 0.18518519,  0.19259259, -0.42962963])"
            ]
          },
          "metadata": {
            "tags": []
          },
          "execution_count": 37
        }
      ]
    },
    {
      "cell_type": "code",
      "metadata": {
        "id": "qNf1_UxbrdXE",
        "colab_type": "code",
        "colab": {},
        "outputId": "025031ab-167c-460c-e407-dc31b5ac6403"
      },
      "source": [
        "norm1 = linalg.norm(x,1)          # L1 norm   == sum(np.abs(x))\n",
        "norm1"
      ],
      "execution_count": null,
      "outputs": [
        {
          "output_type": "execute_result",
          "data": {
            "text/plain": [
              "0.8074074074074075"
            ]
          },
          "metadata": {
            "tags": []
          },
          "execution_count": 31
        }
      ]
    },
    {
      "cell_type": "code",
      "metadata": {
        "id": "LCr2dLe_rdXF",
        "colab_type": "code",
        "colab": {},
        "outputId": "bd8eb297-c36b-4e1f-f760-20a21c901927"
      },
      "source": [
        "norm2 = linalg.norm(x)            # L2 norm   == np.sqrt(sum(x*x))\n",
        "norm2"
      ],
      "execution_count": null,
      "outputs": [
        {
          "output_type": "execute_result",
          "data": {
            "text/plain": [
              "0.505931890860124"
            ]
          },
          "metadata": {
            "tags": []
          },
          "execution_count": 32
        }
      ]
    },
    {
      "cell_type": "code",
      "metadata": {
        "id": "1JfZszBsrdXI",
        "colab_type": "code",
        "colab": {},
        "outputId": "2469a1c6-58bb-437b-9fee-5e05c2a36fc4"
      },
      "source": [
        "# normp = linalg.norm(x,p)          # p norm\n",
        "normMax = linalg.norm(x,np.inf)   # max norm  == np.max(abs(x))\n",
        "normMax"
      ],
      "execution_count": null,
      "outputs": [
        {
          "output_type": "execute_result",
          "data": {
            "text/plain": [
              "0.42962962962962964"
            ]
          },
          "metadata": {
            "tags": []
          },
          "execution_count": 33
        }
      ]
    },
    {
      "cell_type": "code",
      "metadata": {
        "id": "G49odBB7rdXK",
        "colab_type": "code",
        "colab": {},
        "outputId": "146e11e9-049a-424c-de49-308b10ee15e8"
      },
      "source": [
        "# LLS(Linear Least Square)\n",
        "import numpy as np\n",
        "from scipy import linalg\n",
        "import matplotlib.pyplot as plt\n",
        "%matplotlib inline\n",
        "\n",
        "c1, c2 = 5.0, 2.0\n",
        "x = np.linspace(0.1,1,100)\n",
        "y = c1*np.exp(-x) + c2*x\n",
        "z = y + 0.05 * np.max(y) * np.random.randn(len(y))\n",
        "A = np.vstack((np.exp(-x),x)).T\n",
        "\n",
        "c,resid,rank,sigma = linalg.lstsq(A,z)\n",
        "x2 = np.linspace(0.1,1,100)\n",
        "y2 = c[0]*np.exp(-x2) + c[1]*x2\n",
        "\n",
        "plt.plot(x,z,'x',x2,y2)\n",
        "plt.axis([0,1.1,3.0,5.5])\n",
        "plt.xlabel('$x$')\n",
        "plt.title('Linear Least Square')\n",
        "plt.show()"
      ],
      "execution_count": null,
      "outputs": [
        {
          "output_type": "display_data",
          "data": {
            "image/png": "[encoded data removed]",
            "text/plain": [
              "<Figure size 432x288 with 1 Axes>"
            ]
          },
          "metadata": {
            "tags": []
          }
        }
      ]
    },
    {
      "cell_type": "code",
      "metadata": {
        "id": "sdLGgDHXrdXO",
        "colab_type": "code",
        "colab": {},
        "outputId": "7dafe52d-db67-409c-88f5-6a23a4eff602"
      },
      "source": [
        "c,resid,rank,sigma"
      ],
      "execution_count": null,
      "outputs": [
        {
          "output_type": "execute_result",
          "data": {
            "text/plain": [
              "(array([4.98314448, 2.02311754]),\n",
              " 5.991256015809768,\n",
              " 2,\n",
              " array([8.14768374, 2.96924781]))"
            ]
          },
          "metadata": {
            "tags": []
          },
          "execution_count": 40
        }
      ]
    },
    {
      "cell_type": "markdown",
      "metadata": {
        "id": "1Qog_BDErdXQ",
        "colab_type": "text"
      },
      "source": [
        "##### 코사인 유사도"
      ]
    },
    {
      "cell_type": "code",
      "metadata": {
        "id": "zmDY-MsjrdXQ",
        "colab_type": "code",
        "colab": {}
      },
      "source": [
        "from numpy import dot\n",
        "from numpy.linalg import norm\n",
        "import numpy as np\n",
        "\n",
        "def similarity(A, B):\n",
        "       return dot(A, B)/(norm(A)*norm(B))\n",
        "    \n",
        "doc1=np.array([0,1,1,1])\n",
        "doc2=np.array([1,0,1,1])\n",
        "doc3=np.array([2,0,2,2])"
      ],
      "execution_count": null,
      "outputs": []
    },
    {
      "cell_type": "code",
      "metadata": {
        "id": "S-PVZn3CrdXS",
        "colab_type": "code",
        "colab": {},
        "outputId": "5e792558-ea7e-4307-cc71-cf5b82001e4e"
      },
      "source": [
        "print(similarity(doc1, doc2)) #문서1과 문서2의 코사인 유사도\n",
        "print(similarity(doc1, doc3)) #문서1과 문서3의 코사인 유사도\n",
        "print(similarity(doc2, doc3)) #문서2과 문서3의 코사인 유사도"
      ],
      "execution_count": null,
      "outputs": [
        {
          "output_type": "stream",
          "text": [
            "0.6666666666666667\n",
            "0.6666666666666667\n",
            "1.0000000000000002\n"
          ],
          "name": "stdout"
        }
      ]
    },
    {
      "cell_type": "code",
      "metadata": {
        "id": "T8xSmMyJr-As",
        "colab_type": "code",
        "colab": {}
      },
      "source": [
        ""
      ],
      "execution_count": null,
      "outputs": []
    },
    {
      "cell_type": "markdown",
      "metadata": {
        "id": "AlbT_HZ1r-mc",
        "colab_type": "text"
      },
      "source": [
        "# 기술통계"
      ]
    },
    {
      "cell_type": "code",
      "metadata": {
        "id": "z4XRkxQ-sBuz",
        "colab_type": "code",
        "colab": {
          "base_uri": "https://localhost:8080/",
          "height": 161
        },
        "outputId": "d0062093-1533-419a-8c25-59c3619e0172"
      },
      "source": [
        "import numpy as np\n",
        "np.random.seed = 0 \n",
        "\n",
        "x = np.random.randint(-20, 21, 100)\n",
        "x = np.append(x, -50) #임의의 outlier 추가\n",
        "x = np.append(x, 50)\n",
        "x"
      ],
      "execution_count": null,
      "outputs": [
        {
          "output_type": "execute_result",
          "data": {
            "text/plain": [
              "array([  5, -17,  14,   4,  -4,   3,  -1,  10,  -2, -20,   7,  10, -13,\n",
              "       -14, -12,  14,   7, -14, -12,  -4,   4,  12,  -4,   7,   0, -12,\n",
              "         2,  11, -12,   4,  13,   5,  -5,   8,  17,  17, -11,   5,  -5,\n",
              "       -15, -11, -16,  18, -16,   2,  -5,  -1,   9,   8,  10,  19, -18,\n",
              "       -13,   9,  11,   8, -15,  -1,  -1, -18, -14,  17,  16,  -6,  -1,\n",
              "       -19,  -1,   1,  -5,   6,  19,  -8,  -8,   1,   8,   7, -18,  18,\n",
              "        -9, -17,   9,  18,   7, -12,   2,  13,  20,  10, -18,   8,  -1,\n",
              "       -11,   2,  -7,  -6, -12, -20,  -7,  17, -17, -50,  50])"
            ]
          },
          "metadata": {
            "tags": []
          },
          "execution_count": 1
        }
      ]
    },
    {
      "cell_type": "code",
      "metadata": {
        "id": "DVuGDKdQsOEx",
        "colab_type": "code",
        "colab": {
          "base_uri": "https://localhost:8080/",
          "height": 35
        },
        "outputId": "10972319-ed40-4c67-e98e-8fabf7cfc911"
      },
      "source": [
        "#갯수 \n",
        "len(x)"
      ],
      "execution_count": null,
      "outputs": [
        {
          "output_type": "execute_result",
          "data": {
            "text/plain": [
              "102"
            ]
          },
          "metadata": {
            "tags": []
          },
          "execution_count": 2
        }
      ]
    },
    {
      "cell_type": "code",
      "metadata": {
        "id": "MQxbAgKPsQvj",
        "colab_type": "code",
        "colab": {
          "base_uri": "https://localhost:8080/",
          "height": 35
        },
        "outputId": "e6131197-0af2-43b0-c6d9-a62fb77f81ec"
      },
      "source": [
        "#평균\n",
        "np.mean(x)"
      ],
      "execution_count": null,
      "outputs": [
        {
          "output_type": "execute_result",
          "data": {
            "text/plain": [
              "-0.3627450980392157"
            ]
          },
          "metadata": {
            "tags": []
          },
          "execution_count": 3
        }
      ]
    },
    {
      "cell_type": "code",
      "metadata": {
        "id": "j-qxoA24sSmL",
        "colab_type": "code",
        "colab": {
          "base_uri": "https://localhost:8080/",
          "height": 265
        },
        "outputId": "c9ef5e07-b2f6-450c-9a4d-db5344a513c8"
      },
      "source": [
        "import matplotlib.pyplot as plt\n",
        "%matplotlib inline\n",
        "\n",
        "#boxplot으로 outlier 살펴보기\n",
        "plt.boxplot(x)\n",
        "plt.show()"
      ],
      "execution_count": null,
      "outputs": [
        {
          "output_type": "display_data",
          "data": {
            "image/png": "[encoded data removed]",
            "text/plain": [
              "<Figure size 432x288 with 1 Axes>"
            ]
          },
          "metadata": {
            "tags": [],
            "needs_background": "light"
          }
        }
      ]
    },
    {
      "cell_type": "code",
      "metadata": {
        "id": "98fEZA_bsbzb",
        "colab_type": "code",
        "colab": {
          "base_uri": "https://localhost:8080/",
          "height": 35
        },
        "outputId": "14544118-0f65-47cf-b7aa-3adbcafe98cd"
      },
      "source": [
        "#중앙값, 범위 (최소~최대)\n",
        "np.median(x), np.min(x), np.max(x)"
      ],
      "execution_count": null,
      "outputs": [
        {
          "output_type": "execute_result",
          "data": {
            "text/plain": [
              "(-0.5, -50, 50)"
            ]
          },
          "metadata": {
            "tags": []
          },
          "execution_count": 6
        }
      ]
    },
    {
      "cell_type": "code",
      "metadata": {
        "id": "_CJ9hilbspAz",
        "colab_type": "code",
        "colab": {
          "base_uri": "https://localhost:8080/",
          "height": 35
        },
        "outputId": "a48439c5-f1a6-429e-c261-20f8fd8823da"
      },
      "source": [
        "#사분위 범위  - 최소, 1,2,3사분위 수, 최대\n",
        "np.percentile(x,0), np.percentile(x, 25) , np.percentile(x, 50) , np.percentile(x, 75) , np.percentile(x, 100) "
      ],
      "execution_count": null,
      "outputs": [
        {
          "output_type": "execute_result",
          "data": {
            "text/plain": [
              "(-50.0, -11.75, -0.5, 8.75, 50.0)"
            ]
          },
          "metadata": {
            "tags": []
          },
          "execution_count": 7
        }
      ]
    },
    {
      "cell_type": "code",
      "metadata": {
        "id": "pzMnRHQNs3YL",
        "colab_type": "code",
        "colab": {
          "base_uri": "https://localhost:8080/",
          "height": 35
        },
        "outputId": "3dd21bb4-0c68-4097-da77-5df083edb0c6"
      },
      "source": [
        "#-1.5IQR, +1.5 IQR  : boxplot의 끝 \n",
        "\n",
        "np.percentile(x, 25) * 1.5 , np.percentile(x, 75) * 1.5 "
      ],
      "execution_count": null,
      "outputs": [
        {
          "output_type": "execute_result",
          "data": {
            "text/plain": [
              "(-17.625, 13.125)"
            ]
          },
          "metadata": {
            "tags": []
          },
          "execution_count": 8
        }
      ]
    },
    {
      "cell_type": "code",
      "metadata": {
        "id": "lgweZh1ItI9y",
        "colab_type": "code",
        "colab": {
          "base_uri": "https://localhost:8080/",
          "height": 35
        },
        "outputId": "aec1246b-177c-42d6-b60d-05eb9a72f417"
      },
      "source": [
        "#분산, 표준편차\n",
        "\n",
        "np.var(x), np.std(x)"
      ],
      "execution_count": null,
      "outputs": [
        {
          "output_type": "execute_result",
          "data": {
            "text/plain": [
              "(176.27037677816224, 13.276685459035408)"
            ]
          },
          "metadata": {
            "tags": []
          },
          "execution_count": 9
        }
      ]
    },
    {
      "cell_type": "code",
      "metadata": {
        "id": "nSBLaEG4tX6j",
        "colab_type": "code",
        "colab": {
          "base_uri": "https://localhost:8080/",
          "height": 35
        },
        "outputId": "ea0e3f1c-82aa-4791-d7c4-dcd3e1482f5b"
      },
      "source": [
        "# SciPy 패키지에는 여러가지 기술 통계 값을 한 번에 구해주는 describe 명령이 있다.\n",
        "from scipy.stats import describe\n",
        "describe(x)"
      ],
      "execution_count": null,
      "outputs": [
        {
          "output_type": "execute_result",
          "data": {
            "text/plain": [
              "DescribeResult(nobs=102, minmax=(-50, 50), mean=-0.3627450980392157, variance=178.01562803339158, skewness=0.007028972397167768, kurtosis=1.9295027961594604)"
            ]
          },
          "metadata": {
            "tags": []
          },
          "execution_count": 10
        }
      ]
    },
    {
      "cell_type": "code",
      "metadata": {
        "id": "W_qfjurbtZhL",
        "colab_type": "code",
        "colab": {}
      },
      "source": [
        ""
      ],
      "execution_count": null,
      "outputs": []
    },
    {
      "cell_type": "markdown",
      "metadata": {
        "id": "99PSoySnu8c5",
        "colab_type": "text"
      },
      "source": [
        "# Information Theory"
      ]
    },
    {
      "cell_type": "code",
      "metadata": {
        "id": "P-4bJxAKu-Sl",
        "colab_type": "code",
        "colab": {}
      },
      "source": [
        "import numpy as np\n",
        "import matplotlib.pyplot as plt "
      ],
      "execution_count": null,
      "outputs": []
    },
    {
      "cell_type": "code",
      "metadata": {
        "id": "2ilyCMbjvASN",
        "colab_type": "code",
        "colab": {
          "base_uri": "https://localhost:8080/",
          "height": 283
        },
        "outputId": "5344478b-4a39-4586-eb05-f814838fc948"
      },
      "source": [
        "# plot of distributions\n",
        "\n",
        "events = ['red', 'green', 'blue']\n",
        "p = [0.10, 0.40, 0.50]\n",
        "q = [0.80, 0.15, 0.05]\n",
        "\n",
        "print('P=%.3f Q=%.3f' % (sum(p), sum(q)))\n",
        "\n",
        "plt.subplot(2,1,1)\n",
        "plt.bar(events, p)\n",
        "\n",
        "plt.subplot(2,1,2)\n",
        "plt.bar(events, q)\n",
        "\n",
        "plt.show()"
      ],
      "execution_count": null,
      "outputs": [
        {
          "output_type": "stream",
          "text": [
            "P=1.000 Q=1.000\n"
          ],
          "name": "stdout"
        },
        {
          "output_type": "display_data",
          "data": {
            "image/png": "[encoded data removed]",
            "text/plain": [
              "<Figure size 432x288 with 2 Axes>"
            ]
          },
          "metadata": {
            "tags": [],
            "needs_background": "light"
          }
        }
      ]
    },
    {
      "cell_type": "code",
      "metadata": {
        "id": "G_VCCv_PvBdt",
        "colab_type": "code",
        "colab": {}
      },
      "source": [
        ""
      ],
      "execution_count": null,
      "outputs": []
    },
    {
      "cell_type": "markdown",
      "metadata": {
        "id": "jCTnbV6wvCpv",
        "colab_type": "text"
      },
      "source": [
        "#Entropy 계산"
      ]
    },
    {
      "cell_type": "code",
      "metadata": {
        "id": "Oi1Oe0mWvFxZ",
        "colab_type": "code",
        "colab": {}
      },
      "source": [
        "# calculate entropy H(P)\n",
        "def entropy(p):\n",
        "    return -sum([p[i] * np.log2(p[i]) for i in range(len(p))])"
      ],
      "execution_count": null,
      "outputs": []
    },
    {
      "cell_type": "code",
      "metadata": {
        "id": "0wmERQAsvG_0",
        "colab_type": "code",
        "colab": {
          "base_uri": "https://localhost:8080/",
          "height": 35
        },
        "outputId": "be5c92ae-6e19-4e97-907d-f6e5725ffea7"
      },
      "source": [
        "ep = entropy(p)\n",
        "print('H(P): %.3f bits' % ep)"
      ],
      "execution_count": null,
      "outputs": [
        {
          "output_type": "stream",
          "text": [
            "H(P): 1.361 bits\n"
          ],
          "name": "stdout"
        }
      ]
    },
    {
      "cell_type": "code",
      "metadata": {
        "id": "cAIH8_rAvIE1",
        "colab_type": "code",
        "colab": {}
      },
      "source": [
        ""
      ],
      "execution_count": null,
      "outputs": []
    },
    {
      "cell_type": "markdown",
      "metadata": {
        "id": "H9dy2-6evJjd",
        "colab_type": "text"
      },
      "source": [
        "# Cross Entropy 계산"
      ]
    },
    {
      "cell_type": "code",
      "metadata": {
        "id": "ADKVt2rEvLyH",
        "colab_type": "code",
        "colab": {}
      },
      "source": [
        "def cross_entropy(p, q):\n",
        "    return -sum([p[i]*np.log2(q[i]) for i in range(len(p))])"
      ],
      "execution_count": null,
      "outputs": []
    },
    {
      "cell_type": "code",
      "metadata": {
        "id": "ZC83CiilvM_s",
        "colab_type": "code",
        "colab": {
          "base_uri": "https://localhost:8080/",
          "height": 35
        },
        "outputId": "1de2dcd1-8e1c-4272-c2f0-516399a64536"
      },
      "source": [
        "ce_pq = cross_entropy(p, q)\n",
        "print('H(P, Q): %.3f bits' % ce_pq)"
      ],
      "execution_count": null,
      "outputs": [
        {
          "output_type": "stream",
          "text": [
            "H(P, Q): 3.288 bits\n"
          ],
          "name": "stdout"
        }
      ]
    },
    {
      "cell_type": "code",
      "metadata": {
        "id": "la3DImInvODl",
        "colab_type": "code",
        "colab": {
          "base_uri": "https://localhost:8080/",
          "height": 35
        },
        "outputId": "f1973492-931e-4770-c432-947aa6b0a32f"
      },
      "source": [
        "ce_qp = cross_entropy(q, p)\n",
        "print('H(Q, P): %.3f bits' % ce_qp)"
      ],
      "execution_count": null,
      "outputs": [
        {
          "output_type": "stream",
          "text": [
            "H(Q, P): 2.906 bits\n"
          ],
          "name": "stdout"
        }
      ]
    },
    {
      "cell_type": "code",
      "metadata": {
        "id": "5LkM4_dsvPlV",
        "colab_type": "code",
        "colab": {
          "base_uri": "https://localhost:8080/",
          "height": 35
        },
        "outputId": "094de9e2-2bab-4aeb-8a47-b2251540770c"
      },
      "source": [
        "ce_pp = cross_entropy(p, p)\n",
        "print('H(P, P): %.3f bits' % ce_pp)"
      ],
      "execution_count": null,
      "outputs": [
        {
          "output_type": "stream",
          "text": [
            "H(P, P): 1.361 bits\n"
          ],
          "name": "stdout"
        }
      ]
    },
    {
      "cell_type": "code",
      "metadata": {
        "id": "U-qsgXHCvRJk",
        "colab_type": "code",
        "colab": {
          "base_uri": "https://localhost:8080/",
          "height": 35
        },
        "outputId": "ca5c36d4-e1b8-47ee-8b1e-b6be3d365d9f"
      },
      "source": [
        "ce_qq = cross_entropy(q, q)\n",
        "print('H(Q, Q): %.3f bits' % ce_qq)"
      ],
      "execution_count": null,
      "outputs": [
        {
          "output_type": "stream",
          "text": [
            "H(Q, Q): 0.884 bits\n"
          ],
          "name": "stdout"
        }
      ]
    },
    {
      "cell_type": "code",
      "metadata": {
        "id": "5oxjtYiUvSnP",
        "colab_type": "code",
        "colab": {}
      },
      "source": [
        ""
      ],
      "execution_count": null,
      "outputs": []
    },
    {
      "cell_type": "markdown",
      "metadata": {
        "id": "J-WIus7fvTTI",
        "colab_type": "text"
      },
      "source": [
        "# Cross Entropy 계산 (KLD 기반)"
      ]
    },
    {
      "cell_type": "code",
      "metadata": {
        "id": "0H66g9IavV2u",
        "colab_type": "code",
        "colab": {}
      },
      "source": [
        "def kl_divergence(p, q): # KL(P || Q)\n",
        "    return sum(p[i] * np.log2(p[i]/q[i]) for i in range(len(p)))\n",
        "\n",
        "def cross_entropy(p, q): # H(P, Q)\n",
        "    return entropy(p) + kl_divergence(p, q)"
      ],
      "execution_count": null,
      "outputs": []
    },
    {
      "cell_type": "code",
      "metadata": {
        "id": "yBqN4UsDvW9V",
        "colab_type": "code",
        "colab": {
          "base_uri": "https://localhost:8080/",
          "height": 35
        },
        "outputId": "e899de08-5de4-42e4-f9e5-0f5ab403fc39"
      },
      "source": [
        "en_p = entropy(p)\n",
        "print('H(P): %.3f bits' % en_p)"
      ],
      "execution_count": null,
      "outputs": [
        {
          "output_type": "stream",
          "text": [
            "H(P): 1.361 bits\n"
          ],
          "name": "stdout"
        }
      ]
    },
    {
      "cell_type": "code",
      "metadata": {
        "id": "yB-1naY7vYrO",
        "colab_type": "code",
        "colab": {
          "base_uri": "https://localhost:8080/",
          "height": 35
        },
        "outputId": "f107feb8-169d-4d0c-caf4-867b92457774"
      },
      "source": [
        "kl_pq = kl_divergence(p, q)\n",
        "print('KL(P || Q): %.3f bits' % kl_pq)"
      ],
      "execution_count": null,
      "outputs": [
        {
          "output_type": "stream",
          "text": [
            "KL(P || Q): 1.927 bits\n"
          ],
          "name": "stdout"
        }
      ]
    },
    {
      "cell_type": "code",
      "metadata": {
        "id": "u_dX_nxwvZ99",
        "colab_type": "code",
        "colab": {
          "base_uri": "https://localhost:8080/",
          "height": 35
        },
        "outputId": "5cd0f9d8-487f-4556-8dcb-ece8ffd79992"
      },
      "source": [
        "ce_pq = cross_entropy(p, q)\n",
        "print('H(P, Q): %.3f bits' % ce_pq)"
      ],
      "execution_count": null,
      "outputs": [
        {
          "output_type": "stream",
          "text": [
            "H(P, Q): 3.288 bits\n"
          ],
          "name": "stdout"
        }
      ]
    },
    {
      "cell_type": "code",
      "metadata": {
        "id": "U9PIckEuvbPO",
        "colab_type": "code",
        "colab": {}
      },
      "source": [
        ""
      ],
      "execution_count": null,
      "outputs": []
    }
  ]
}