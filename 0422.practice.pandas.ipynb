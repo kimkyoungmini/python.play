{
 "cells": [
  {
   "cell_type": "code",
   "execution_count": 2,
   "metadata": {
    "collapsed": true
   },
   "outputs": [],
   "source": [
    "import pandas as pd\n",
    "from pandas import Series , DataFrame\n",
    "#import 만 했을 경우에는 pandas 라이브러리 안에 요소를 호출 시 pd.요소로 호출해야함\n",
    "#from을 이용했을 경우, pandas 내 Series와 DataFrame은 pandas를 붙이지 않고 바로 요소를 사용할 수 있도록 설정\n",
    "import numpy as np\n"
   ]
  },
  {
   "cell_type": "code",
   "execution_count": 8,
   "metadata": {
    "collapsed": false
   },
   "outputs": [
    {
     "name": "stdout",
     "output_type": "stream",
     "text": [
      "      0     1     2      3\n",
      "0  3000  2000  3200   2100\n",
      "1  2000  1700  2600   1800\n",
      "2  1500  2000  1500  13000\n",
      "      0     1      2\n",
      "0  3000  2000   1500\n",
      "1  2000  1700   2000\n",
      "2  3200  2600   1500\n",
      "3  2100  1800  13000\n",
      "   daum  naver     sk\n",
      "0  3000   2000   1500\n",
      "1  2000   1700   2000\n",
      "2  3200   2600   1500\n",
      "3  2100   1800  13000\n"
     ]
    }
   ],
   "source": [
    "\n",
    "\n",
    "df = DataFrame([[3000,2000,3200,2100], \n",
    "              [2000,1700,2600,1800],\n",
    "               [1500,2000,1500,13000]])\n",
    "print(df)\n",
    "df = df.T\n",
    "print(df)\n",
    "df.columns = ['daum', 'naver', 'sk']\n",
    "print(df)"
   ]
  },
  {
   "cell_type": "code",
   "execution_count": 9,
   "metadata": {
    "collapsed": false
   },
   "outputs": [
    {
     "name": "stdout",
     "output_type": "stream",
     "text": [
      "           daum     naver        sk\n",
      "daum   1.000000  0.866618 -0.551247\n",
      "naver  0.866618  1.000000 -0.400942\n",
      "sk    -0.551247 -0.400942  1.000000\n"
     ]
    }
   ],
   "source": [
    "#상관계수\n",
    "#두 개 사이의 변화량의 관계 파악\n",
    "print(df.corr())"
   ]
  },
  {
   "cell_type": "code",
   "execution_count": 11,
   "metadata": {
    "collapsed": false
   },
   "outputs": [
    {
     "name": "stdout",
     "output_type": "stream",
     "text": [
      "0.86661768362\n"
     ]
    }
   ],
   "source": [
    "#두 변수 사이에만 상관계수를 파악하고 싶을 경우\n",
    "print(df['daum'].corr(df['naver']))\n",
    "print(df.daum.corr(df['naver']))"
   ]
  },
  {
   "cell_type": "code",
   "execution_count": 12,
   "metadata": {
    "collapsed": false
   },
   "outputs": [
    {
     "name": "stdout",
     "output_type": "stream",
     "text": [
      "LinregressResult(slope=0.56984478935698446, intercept=557.64966740576506, rvalue=0.86661768361994251, pvalue=0.13338231638005746, stderr=0.23200153187633407)\n"
     ]
    }
   ],
   "source": [
    "#회귀분석 : Spicy 이용 \n",
    "from scipy import stats\n",
    "des = stats.linregress(df.daum, df.naver)\n",
    "print(des)\n",
    "\n",
    "# LinregressResult(slope=0.56984478935698446, intercept=557.64966740576506, \n",
    "#                  rvalue=0.86661768361994251, pvalue=0.13338231638005746, \n",
    "#                  stderr=0.23200153187633407)\n",
    "\n",
    "#slope 기울기\n",
    "#intercept : 절편\n",
    "#rvalue : 상관도\n",
    "#pvalue : 오류 : 0.1~0.5 is ok\n"
   ]
  },
  {
   "cell_type": "code",
   "execution_count": 13,
   "metadata": {
    "collapsed": false
   },
   "outputs": [
    {
     "name": "stdout",
     "output_type": "stream",
     "text": [
      "다음이 5000일 때 네이버의 예측 값 :  3406.87361419\n"
     ]
    }
   ],
   "source": [
    "# 다음으로 네이버를 이제 예측할 수 있다. how? with slope and intercept\n",
    "slope, intercept, rvalue,pvalue,stderr = stats.linregress(df.daum, df.naver)\n",
    "print(\"다음이 5000일 때 네이버의 예측 값 : \", 5000*slope + intercept)"
   ]
  },
  {
   "cell_type": "code",
   "execution_count": 15,
   "metadata": {
    "collapsed": false
   },
   "outputs": [
    {
     "data": {
      "image/png": "[encoded data removed]",
      "text/plain": [
       "<matplotlib.figure.Figure at 0xa6954a8>"
      ]
     },
     "metadata": {},
     "output_type": "display_data"
    }
   ],
   "source": [
    "from scipy import polyval\n",
    "import matplotlib as plt #그래프나 그림 출력 시 사용되는 라이브러리\n",
    "from pylab import plot,title,show,legend\n",
    "\n",
    "ry = polyval([slope, intercept], df['daum'])\n",
    "plot(df.daum, ry, 'r--') #r--, k- ; color\n",
    "show()"
   ]
  },
  {
   "cell_type": "code",
   "execution_count": null,
   "metadata": {
    "collapsed": true
   },
   "outputs": [],
   "source": []
  }
 ],
 "metadata": {
  "kernelspec": {
   "display_name": "Python 3",
   "language": "python",
   "name": "python3"
  },
  "language_info": {
   "codemirror_mode": {
    "name": "ipython",
    "version": 3
   },
   "file_extension": ".py",
   "mimetype": "text/x-python",
   "name": "python",
   "nbconvert_exporter": "python",
   "pygments_lexer": "ipython3",
   "version": "3.6.0"
  }
 },
 "nbformat": 4,
 "nbformat_minor": 2
}
