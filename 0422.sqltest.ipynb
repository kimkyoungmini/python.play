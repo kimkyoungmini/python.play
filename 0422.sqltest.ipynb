{
 "cells": [
  {
   "cell_type": "code",
   "execution_count": 1,
   "metadata": {
    "collapsed": true
   },
   "outputs": [],
   "source": [
    "import pymysql #mysql을 사용하기 위한 라이브러리 추가\n",
    "import numpy as np\n",
    "import pandas as pd\n",
    "from pandas import Series, DataFrame\n"
   ]
  },
  {
   "cell_type": "code",
   "execution_count": 8,
   "metadata": {
    "collapsed": false
   },
   "outputs": [],
   "source": [
    "#mysql 접속\n",
    "con = pymysql.connect(host='211.183.2.253', port=3306,\n",
    "                     user='root', passwd='wnddkd', db='user30', charset='utf8')"
   ]
  },
  {
   "cell_type": "code",
   "execution_count": 5,
   "metadata": {
    "collapsed": false
   },
   "outputs": [
    {
     "name": "stdout",
     "output_type": "stream",
     "text": [
      "<pymysql.connections.Connection object at 0x00000000050ACB70>\n"
     ]
    }
   ],
   "source": [
    "print(con)\n",
    "# con.close()"
   ]
  },
  {
   "cell_type": "code",
   "execution_count": 10,
   "metadata": {
    "collapsed": false
   },
   "outputs": [
    {
     "name": "stdout",
     "output_type": "stream",
     "text": [
      "[(1, 'park', '01037901997'), (2, '박문석', '01037901997')]\n"
     ]
    }
   ],
   "source": [
    "#읽어온 데이터를 저장하기 위한 LIST 생성\n",
    "\n",
    "li=[]\n",
    "try:\n",
    "    #sql을 실행하고 select 구문 결과를 접근할 수 있는 커서 생성\n",
    "    cursor = con.cursor()\n",
    "    #sql 문장 생성\n",
    "    cursor.execute('select * from contact')\n",
    "    #select 결과에 접근할 수 있는 iterator 생성\n",
    "    d = cursor.fetchall()\n",
    "    for imsi in d:\n",
    "        li.append(imsi)\n",
    "    print(li)\n",
    "    \n",
    "except :\n",
    "    print('exception error', sys.exc_info())\n",
    "finally :\n",
    "    con.close()"
   ]
  },
  {
   "cell_type": "code",
   "execution_count": 20,
   "metadata": {
    "collapsed": false
   },
   "outputs": [
    {
     "name": "stdout",
     "output_type": "stream",
     "text": [
      "<Element html at 0x636f368>\n"
     ]
    }
   ],
   "source": [
    "#웹에서 문자열 읽어오기\n",
    "\n",
    "import requests\n",
    "from lxml.html import parse\n",
    "from io import StringIO\n",
    "\n",
    "url = 'http://movie.naver.com/movie/bi/mi/basic.nhn?code=102494'\n",
    "data = requests.get(url)\n",
    "# print(data.text)\n",
    "\n",
    "doc = parse(StringIO(data.text))\n",
    "print(doc.getroot())\n",
    "\n",
    "# for s in data :\n",
    "#     print (s)\n"
   ]
  },
  {
   "cell_type": "code",
   "execution_count": 33,
   "metadata": {
    "collapsed": false
   },
   "outputs": [
    {
     "name": "stdout",
     "output_type": "stream",
     "text": [
      "{'X1': ['0.1', '0.1', '0.1'], 'X2': ['0.2', '0.2', '0.2'], 'X3': ['0.3', '0.3', '0.3']}\n"
     ]
    }
   ],
   "source": [
    "dic_test = {'X1' : ['0.1','0.1','0.1'],\n",
    "           'X2' : ['0.2','0.2','0.2'],\n",
    "           'X3' : ['0.3','0.3','0.3']}\n",
    "\n",
    "cols = ['1', '2', '3']\n",
    "\n",
    "print(dic_test)"
   ]
  },
  {
   "cell_type": "code",
   "execution_count": 34,
   "metadata": {
    "collapsed": false
   },
   "outputs": [
    {
     "name": "stdout",
     "output_type": "stream",
     "text": [
      "<class 'dict_keys'>\n",
      "<class 'dict_values'>\n",
      "[['0.1', '0.1', '0.1'], ['0.2', '0.2', '0.2'], ['0.3', '0.3', '0.3']]\n"
     ]
    }
   ],
   "source": [
    "dic_keys = dic_test.keys()\n",
    "dic_values= dic_test.values()\n",
    "\n",
    "\n",
    "\n",
    "\n",
    "\n",
    "print(type(dic_keys))\n",
    "print(type(dic_values))\n",
    "print(data)"
   ]
  },
  {
   "cell_type": "code",
   "execution_count": 35,
   "metadata": {
    "collapsed": false
   },
   "outputs": [
    {
     "name": "stdout",
     "output_type": "stream",
     "text": [
      "[['c1' 'c2' 'c3']\n",
      " ['0.1' '0.1' '0.1']\n",
      " ['0.2' '0.2' '0.2']\n",
      " ['0.3' '0.3' '0.3']]\n"
     ]
    }
   ],
   "source": [
    "import numpy as np\n",
    "cols = ['c1', 'c2', 'c3']\n",
    "lst_dic_values = list(dic_values)\n",
    "\n",
    "merge_x = np.vstack([cols,lst_dic_values])\n",
    "print(merge_x)"
   ]
  },
  {
   "cell_type": "code",
   "execution_count": null,
   "metadata": {
    "collapsed": true
   },
   "outputs": [],
   "source": [
    "true, false\n",
    "True,  False #string"
   ]
  }
 ],
 "metadata": {
  "kernelspec": {
   "display_name": "Python 3",
   "language": "python",
   "name": "python3"
  },
  "language_info": {
   "codemirror_mode": {
    "name": "ipython",
    "version": 3
   },
   "file_extension": ".py",
   "mimetype": "text/x-python",
   "name": "python",
   "nbconvert_exporter": "python",
   "pygments_lexer": "ipython3",
   "version": "3.6.0"
  }
 },
 "nbformat": 4,
 "nbformat_minor": 2
}
